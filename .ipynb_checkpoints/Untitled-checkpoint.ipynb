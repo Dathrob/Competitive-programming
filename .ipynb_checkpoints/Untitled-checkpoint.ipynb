{
 "cells": [
  {
   "cell_type": "code",
   "execution_count": 2,
   "metadata": {},
   "outputs": [],
   "source": [
    "from collections import deque\n"
   ]
  },
  {
   "cell_type": "code",
   "execution_count": 61,
   "metadata": {},
   "outputs": [],
   "source": [
    "class Stack:\n",
    "    def __init__(self):\n",
    "        self.stack = deque()\n",
    "        \n",
    "    def push(self,val):\n",
    "        self.stack.append(val)\n",
    "    def pop(self):\n",
    "        return self.stack.pop()\n",
    "    def peek(self):\n",
    "        return self.stack[-1]\n",
    "    def is_empty(self):\n",
    "        return len(self.stack) == 0\n",
    "    def reverse(self):\n",
    "        string = \"\"\n",
    "        for i in range(len(self.stack)):\n",
    "            string = string + self.stack.pop()\n",
    "        return string\n",
    "        "
   ]
  },
  {
   "cell_type": "code",
   "execution_count": 66,
   "metadata": {},
   "outputs": [
    {
     "ename": "SyntaxError",
     "evalue": "EOL while scanning string literal (<ipython-input-66-4f908e119dcb>, line 2)",
     "output_type": "error",
     "traceback": [
      "\u001b[0;36m  File \u001b[0;32m\"<ipython-input-66-4f908e119dcb>\"\u001b[0;36m, line \u001b[0;32m2\u001b[0m\n\u001b[0;31m    for i in \"\u001b[0m\n\u001b[0m              ^\u001b[0m\n\u001b[0;31mSyntaxError\u001b[0m\u001b[0;31m:\u001b[0m EOL while scanning string literal\n"
     ]
    }
   ],
   "source": [
    "s = Stack()\n",
    "for i in \"this is a sceret message that i am willing to give you so that you will decipher it and work this is a sceret message that i am willing to give you so that you will decipher it and work this is a sceret message that i am willing to give you so that you will decipher it and work this is a sceret message that i am willing to give you so that you will decipher it and work this is a sceret message that i am willing to give you so that you will decipher it and work this is a sceret message that i am willing to give you so that you will decipher it and work this is a sceret message that i am willing to give you so that you will decipher it and work this is a sceret message that i am willing to give you so that you will decipher it and work this is a sceret message that i am willing to give you so that you will decipher it and work this is a sceret message that i am willing to give you so that you will decipher it and work \":\n",
    "    s.push(i)\n",
    "s.reverse()\n",
    "\n",
    "\n",
    "        "
   ]
  },
  {
   "cell_type": "code",
   "execution_count": null,
   "metadata": {},
   "outputs": [],
   "source": []
  },
  {
   "cell_type": "code",
   "execution_count": null,
   "metadata": {},
   "outputs": [],
   "source": []
  }
 ],
 "metadata": {
  "kernelspec": {
   "display_name": "Python 3",
   "language": "python",
   "name": "python3"
  },
  "language_info": {
   "codemirror_mode": {
    "name": "ipython",
    "version": 3
   },
   "file_extension": ".py",
   "mimetype": "text/x-python",
   "name": "python",
   "nbconvert_exporter": "python",
   "pygments_lexer": "ipython3",
   "version": "3.7.3"
  }
 },
 "nbformat": 4,
 "nbformat_minor": 2
}
